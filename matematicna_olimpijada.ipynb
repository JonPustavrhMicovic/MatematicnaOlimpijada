import pandas as pd 
import matplotlib.pyplot as plt

projekt = pd.read_csv('rezultati.csv')



#print(projekt['year'])
print(projekt['problem1'])

#print(projekt[:3])

#povprecje vsake naloge čez leta:

#print(projekt['problem1'].mean())

#print(projekt['problem2'].mean())

#print(projekt['problem3'].mean())

#print(projekt['problem4'].mean())

#print(projekt['problem5'].mean())

#print(projekt['problem6'].mean())



#koliko je bilo tekmovalcev v danem letu
projekt_koliko = projekt.groupby('year')

print(projekt_koliko.size())







 